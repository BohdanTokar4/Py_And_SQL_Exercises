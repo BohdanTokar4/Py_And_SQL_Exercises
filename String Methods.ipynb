{
 "cells": [
  {
   "cell_type": "code",
   "execution_count": 17,
   "id": "65e97aab-8d72-4fbc-95b3-112b02fefc8f",
   "metadata": {},
   "outputs": [
    {
     "name": "stdout",
     "output_type": "stream",
     "text": [
      "stringabcdefg\n"
     ]
    }
   ],
   "source": [
    "#1\n",
    "a = 'string'\n",
    "b = 'abcdefg'\n",
    "c = ' third number '\n",
    "print (a + b)"
   ]
  },
  {
   "cell_type": "code",
   "execution_count": 3,
   "id": "e268ee94-e7bd-4676-a23e-39632541041c",
   "metadata": {},
   "outputs": [
    {
     "name": "stdout",
     "output_type": "stream",
     "text": [
      "6\n",
      "7\n"
     ]
    }
   ],
   "source": [
    "#2\n",
    "print(len(a))\n",
    "print(len(b))"
   ]
  },
  {
   "cell_type": "code",
   "execution_count": 6,
   "id": "574a4765-eba3-4301-95d5-a005d0af61c6",
   "metadata": {},
   "outputs": [
    {
     "name": "stdout",
     "output_type": "stream",
     "text": [
      "string\n",
      "ABCDEFG\n"
     ]
    }
   ],
   "source": [
    "#3\n",
    "print(a.lower())\n",
    "print(b.upper())"
   ]
  },
  {
   "cell_type": "code",
   "execution_count": 11,
   "id": "981c74f4-cd24-44be-9004-063fef4f72e5",
   "metadata": {},
   "outputs": [
    {
     "name": "stdout",
     "output_type": "stream",
     "text": [
      "str\n",
      "efg\n",
      "d\n"
     ]
    }
   ],
   "source": [
    "#4\n",
    "print(a[:3])\n",
    "print(b[-3:])\n",
    "print(b[len(b)//2])"
   ]
  },
  {
   "cell_type": "code",
   "execution_count": 12,
   "id": "49ec4e9b-a64b-4f0c-8a0f-144165616d66",
   "metadata": {},
   "outputs": [
    {
     "name": "stdout",
     "output_type": "stream",
     "text": [
      "gnirts\n"
     ]
    }
   ],
   "source": [
    "#5\n",
    "print(a[::-1])"
   ]
  },
  {
   "cell_type": "code",
   "execution_count": 14,
   "id": "567dbf67-f24a-4229-9247-7c9068ded5f2",
   "metadata": {},
   "outputs": [
    {
     "name": "stdout",
     "output_type": "stream",
     "text": [
      "1\n"
     ]
    }
   ],
   "source": [
    "#6\n",
    "print(a.count('s'))"
   ]
  },
  {
   "cell_type": "code",
   "execution_count": 15,
   "id": "f642552f-0744-4035-8f7e-dcf41a24732a",
   "metadata": {},
   "outputs": [
    {
     "name": "stdout",
     "output_type": "stream",
     "text": [
      "stringstringstring\n"
     ]
    }
   ],
   "source": [
    "#7\n",
    "print(a*3)"
   ]
  },
  {
   "cell_type": "code",
   "execution_count": 18,
   "id": "a523dd75-2953-4343-82ce-5c51061822ac",
   "metadata": {},
   "outputs": [
    {
     "name": "stdout",
     "output_type": "stream",
     "text": [
      "third number\n"
     ]
    }
   ],
   "source": [
    "#8\n",
    "print(c.strip())"
   ]
  },
  {
   "cell_type": "code",
   "execution_count": 23,
   "id": "e874d0fe-5ccf-4f27-8290-bf7189511584",
   "metadata": {},
   "outputs": [
    {
     "name": "stdout",
     "output_type": "stream",
     "text": [
      "3\n",
      "3\n",
      "True\n",
      "False\n"
     ]
    }
   ],
   "source": [
    "#9\n",
    "print(c.find('r'))\n",
    "print(c.index('r'))\n",
    "print(bool(c.find('r')))\n",
    "print(bool(c.index('q')) if 'q' in c else False)"
   ]
  },
  {
   "cell_type": "code",
   "execution_count": 25,
   "id": "7d271a08-18a2-4d65-bae2-70ef4923b26b",
   "metadata": {},
   "outputs": [
    {
     "name": "stdout",
     "output_type": "stream",
     "text": [
      "['third', 'number']\n"
     ]
    }
   ],
   "source": [
    "#10\n",
    "print(c.split())"
   ]
  },
  {
   "cell_type": "code",
   "execution_count": 27,
   "id": "0442fc3c-6020-411f-8881-231242a91ac6",
   "metadata": {},
   "outputs": [
    {
     "name": "stdout",
     "output_type": "stream",
     "text": [
      "fourth number\n"
     ]
    }
   ],
   "source": [
    "#11\n",
    "print(c.replace('third', 'fourth'))"
   ]
  },
  {
   "cell_type": "code",
   "execution_count": 29,
   "id": "697477b4-d271-454f-95f8-07ad38d1010b",
   "metadata": {},
   "outputs": [
    {
     "name": "stdout",
     "output_type": "stream",
     "text": [
      "-1\n",
      "3\n"
     ]
    }
   ],
   "source": [
    "#12\n",
    "print(c.find('q'))\n",
    "print(c.index('r'))"
   ]
  },
  {
   "cell_type": "code",
   "execution_count": 32,
   "id": "b580bbc4-1d83-4a97-9bce-2703583b5e6b",
   "metadata": {},
   "outputs": [
    {
     "name": "stdout",
     "output_type": "stream",
     "text": [
      "Third Number\n"
     ]
    }
   ],
   "source": [
    "#13\n",
    "print(c.title())"
   ]
  },
  {
   "cell_type": "code",
   "execution_count": 35,
   "id": "256862d1-9538-4a03-8a4f-6b209f5ad50e",
   "metadata": {},
   "outputs": [
    {
     "name": "stdout",
     "output_type": "stream",
     "text": [
      "Hello, string, Hi abcdefg, Good Morning third number\n"
     ]
    }
   ],
   "source": [
    "#14\n",
    "print(\"Hello, {}, Hi {}, Good Morning {}\".format(a, b, c))"
   ]
  },
  {
   "cell_type": "code",
   "execution_count": 38,
   "id": "14bbcd4e-ed3f-4e13-90f0-fd497ccd0ca6",
   "metadata": {},
   "outputs": [
    {
     "name": "stdout",
     "output_type": "stream",
     "text": [
      "змінна \"ротор\" є паліндромом\n",
      "змінна \"third number\" не є паліндромом\n"
     ]
    }
   ],
   "source": [
    "#15\n",
    "d = 'ротор'\n",
    "if d == d[::-1]:\n",
    "    print(f'змінна \"{d}\" є паліндромом')\n",
    "else:\n",
    "    print(f'змінна \"{d}\" не є паліндромом')\n",
    "\n",
    "if c == c[::-1]:\n",
    "    print(f'змінна \"{c}\" є паліндромом')\n",
    "else:\n",
    "    print(f'змінна \"{c}\" не є паліндромом')"
   ]
  },
  {
   "cell_type": "code",
   "execution_count": null,
   "id": "cd56674e-15a5-4153-aae7-d126c7e6acbd",
   "metadata": {},
   "outputs": [],
   "source": []
  }
 ],
 "metadata": {
  "kernelspec": {
   "display_name": "Python 3 (ipykernel)",
   "language": "python",
   "name": "python3"
  },
  "language_info": {
   "codemirror_mode": {
    "name": "ipython",
    "version": 3
   },
   "file_extension": ".py",
   "mimetype": "text/x-python",
   "name": "python",
   "nbconvert_exporter": "python",
   "pygments_lexer": "ipython3",
   "version": "3.12.0"
  }
 },
 "nbformat": 4,
 "nbformat_minor": 5
}
